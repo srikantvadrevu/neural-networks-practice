{
 "cells": [
  {
   "cell_type": "code",
   "execution_count": 1,
   "metadata": {
    "collapsed": true
   },
   "outputs": [],
   "source": [
    "%matplotlib inline"
   ]
  },
  {
   "cell_type": "code",
   "execution_count": 2,
   "metadata": {
    "collapsed": true
   },
   "outputs": [],
   "source": [
    "import numpy\n",
    "import random\n",
    "from matplotlib import pyplot as plt\n",
    "from win32com.client import Dispatch"
   ]
  },
  {
   "cell_type": "code",
   "execution_count": 3,
   "metadata": {
    "collapsed": true
   },
   "outputs": [],
   "source": [
    "dataB1 = [1, 1, 0]\n",
    "dataB2 = [2, 1, 0]\n",
    "dataB3 = [2, .5, 0]\n",
    "dataB4 = [3, 1, 0]\n",
    "\n",
    "dataR1 = [3, 1.5, 1]\n",
    "dataR2 = [3.5, .5, 1]\n",
    "dataR3 = [4, 1.5, 1]\n",
    "dataR4 = [5.5, 1, 1]\n",
    "\n",
    "# unknown type (flower color that we want to predict)\n",
    "dataU = [4.5,  1, \"it should be 1\"]\n",
    "\n",
    "all_points = [dataB1, dataB2, dataB3, dataB4, dataR1, dataR2, dataR3, dataR4]\n",
    "\n",
    "def sigmoid(x):\n",
    "    return 1/(1+ numpy.exp(-x))   \n",
    "\n",
    "# derivative of sigmoid\n",
    "def sigmoid_prime(x):\n",
    "    return sigmoid(x) * ( 1 - sigmoid(x))"
   ]
  },
  {
   "cell_type": "code",
   "execution_count": 4,
   "metadata": {},
   "outputs": [
    {
     "data": {
      "text/plain": [
       "[<matplotlib.lines.Line2D at 0x1b63b0d67f0>]"
      ]
     },
     "execution_count": 4,
     "metadata": {},
     "output_type": "execute_result"
    },
    {
     "data": {
      "image/png": "[encoded data removed]",
      "text/plain": [
       "<matplotlib.figure.Figure at 0x1b63e677a20>"
      ]
     },
     "metadata": {},
     "output_type": "display_data"
    }
   ],
   "source": [
    "X = numpy.linspace(-20, 20, 100)\n",
    "plt.plot(X, sigmoid(X), c = 'r')\n",
    "plt.plot(X, sigmoid_prime(X), c = 'b')"
   ]
  },
  {
   "cell_type": "code",
   "execution_count": 5,
   "metadata": {},
   "outputs": [
    {
     "data": {
      "image/png": "[encoded data removed]",
      "text/plain": [
       "<matplotlib.figure.Figure at 0x1b63e6779b0>"
      ]
     },
     "metadata": {},
     "output_type": "display_data"
    }
   ],
   "source": [
    "for i in range(len(all_points)):\n",
    "    point = all_points[i]\n",
    "    color = 'r'\n",
    "    if point[2] == 0:\n",
    "        color = 'b'\n",
    "    plt.scatter(point[0], point[1], c = color)  "
   ]
  },
  {
   "cell_type": "code",
   "execution_count": 6,
   "metadata": {},
   "outputs": [
    {
     "data": {
      "image/png": "[encoded data removed]",
      "text/plain": [
       "<matplotlib.figure.Figure at 0x1b6414f43c8>"
      ]
     },
     "metadata": {},
     "output_type": "display_data"
    }
   ],
   "source": [
    "def train():\n",
    "    w1 = numpy.random.randn()\n",
    "    w2 = numpy.random.randn()\n",
    "    b = numpy.random.randn()\n",
    "    learning_rate = 0.3\n",
    "    \n",
    "    costs = []\n",
    "    i=0\n",
    "    while(i<50000):\n",
    "        random_index = random.randint( 0, len(all_points) - 1)\n",
    "        point = all_points[random_index]\n",
    "        target = point[2]\n",
    "        \n",
    "        # feed forward\n",
    "        z = w1 * point[0] + w2 * point[1] + b\n",
    "        prediction = sigmoid(z)\n",
    "        \n",
    "        # comparing the model prediction with the target\n",
    "        cost = (prediction - target) ** 2\n",
    "        costs.append(cost)\n",
    "        \n",
    "        dcost_dpred = 2 * (prediction - target)\n",
    "        \n",
    "        dpred_dz = sigmoid(z) * (1-sigmoid(z))\n",
    "        \n",
    "        dz_dw1 = point[0]\n",
    "        dz_dw2 = point[1]\n",
    "        dz_db = 1\n",
    "        \n",
    "        dcost_dw1 = dcost_dpred * dpred_dz * dz_dw1\n",
    "        dcost_dw2 = dcost_dpred * dpred_dz * dz_dw2\n",
    "        dcost_db =  dcost_dpred * dpred_dz * dz_db\n",
    "        \n",
    "        w1 = w1 - learning_rate * dcost_dw1\n",
    "        w2 = w2 - learning_rate * dcost_dw2\n",
    "        b = b - learning_rate * dcost_db\n",
    "        \n",
    "        i = i + 1\n",
    "    \n",
    "    plt.plot(costs)\n",
    "    \n",
    "    return {'w1': w1, 'w2': w2, 'b': b}\n",
    "\n",
    "training_response = train()"
   ]
  },
  {
   "cell_type": "code",
   "execution_count": 7,
   "metadata": {
    "collapsed": true
   },
   "outputs": [],
   "source": [
    "w1 = training_response['w1']\n",
    "w2 = training_response['w2']\n",
    "b = training_response['b']"
   ]
  },
  {
   "cell_type": "code",
   "execution_count": 8,
   "metadata": {
    "collapsed": true
   },
   "outputs": [],
   "source": [
    "def predict_flower(x, y):\n",
    "    dataU_prediction = sigmoid(w1 * x + w2 * y + b)\n",
    "    print(dataU_prediction)\n",
    "    \n",
    "    speak = Dispatch(\"SAPI.SpVoice\")\n",
    "    if dataU_prediction < 0.5:\n",
    "        speak.Speak(\"Blue\")\n",
    "    else:\n",
    "        speak.Speak(\"Red\")"
   ]
  },
  {
   "cell_type": "code",
   "execution_count": 9,
   "metadata": {},
   "outputs": [
    {
     "name": "stdout",
     "output_type": "stream",
     "text": [
      "0.999997707419\n"
     ]
    }
   ],
   "source": [
    "predict_flower(dataU[0], dataU[1]) # Red"
   ]
  },
  {
   "cell_type": "code",
   "execution_count": 10,
   "metadata": {},
   "outputs": [
    {
     "name": "stdout",
     "output_type": "stream",
     "text": [
      "0.0810556849846\n"
     ]
    }
   ],
   "source": [
    "predict_flower(3, 0.5) # Blue"
   ]
  }
 ],
 "metadata": {
  "kernelspec": {
   "display_name": "Python [default]",
   "language": "python",
   "name": "python3"
  },
  "language_info": {
   "codemirror_mode": {
    "name": "ipython",
    "version": 3
   },
   "file_extension": ".py",
   "mimetype": "text/x-python",
   "name": "python",
   "nbconvert_exporter": "python",
   "pygments_lexer": "ipython3",
   "version": "3.5.3"
  }
 },
 "nbformat": 4,
 "nbformat_minor": 2
}
