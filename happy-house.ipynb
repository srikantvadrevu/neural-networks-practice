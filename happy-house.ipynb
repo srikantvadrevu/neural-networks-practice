{
 "cells": [
  {
   "cell_type": "code",
   "execution_count": 1,
   "metadata": {},
   "outputs": [],
   "source": [
    "%reload_ext autoreload\n",
    "%autoreload 2\n",
    "%matplotlib inline"
   ]
  },
  {
   "cell_type": "code",
   "execution_count": 2,
   "metadata": {},
   "outputs": [
    {
     "name": "stderr",
     "output_type": "stream",
     "text": [
      "/home/paperspace/anaconda3/envs/fastai/lib/python3.6/site-packages/sklearn/ensemble/weight_boosting.py:29: DeprecationWarning: numpy.core.umath_tests is an internal NumPy module and should not be imported. It will be removed in a future NumPy release.\n",
      "  from numpy.core.umath_tests import inner1d\n"
     ]
    }
   ],
   "source": [
    "from fastai.conv_learner import *\n",
    "import h5py"
   ]
  },
  {
   "cell_type": "code",
   "execution_count": 3,
   "metadata": {},
   "outputs": [
    {
     "name": "stdout",
     "output_type": "stream",
     "text": [
      "True True\n"
     ]
    }
   ],
   "source": [
    "PATH = 'data/happy-house/'\n",
    "os.makedirs('data/happy-house/models', exist_ok=True)\n",
    "os.makedirs('cache/happy-house/tmp', exist_ok=True)\n",
    "print(torch.cuda.is_available(), torch.backends.cudnn.enabled)"
   ]
  },
  {
   "cell_type": "code",
   "execution_count": 4,
   "metadata": {},
   "outputs": [],
   "source": [
    "sz = 48\n",
    "arch=resnext50\n",
    "# data set downloaded from kaggle competition - https://www.kaggle.com/iarunava/happy-house-dataset\n",
    "def load_dataset():\n",
    "    train_data = h5py.File('data/happy-house/train_happy.h5', \"r\")\n",
    "    x_train = np.array(train_data[\"train_set_x\"][:]) \n",
    "    y_train = np.array(train_data[\"train_set_y\"][:]) \n",
    "\n",
    "    test_data = h5py.File('data/happy-house/test_happy.h5', \"r\")\n",
    "    x_test = np.array(test_data[\"test_set_x\"][:])\n",
    "    y_test = np.array(test_data[\"test_set_y\"][:]) \n",
    "    \n",
    "    y_train = y_train.reshape((1, y_train.shape[0]))\n",
    "    y_test = y_test.reshape((1, y_test.shape[0]))\n",
    "    \n",
    "    return x_train, y_train, x_test, y_test"
   ]
  },
  {
   "cell_type": "code",
   "execution_count": 5,
   "metadata": {},
   "outputs": [],
   "source": [
    "X_train, Y_train, X_test, Y_test = load_dataset()"
   ]
  },
  {
   "cell_type": "code",
   "execution_count": 6,
   "metadata": {},
   "outputs": [],
   "source": [
    "Y_train = Y_train.T.squeeze()\n",
    "Y_test = Y_test.T.squeeze()\n",
    "def get_data(sz):\n",
    "    tfms = tfms_from_model(arch, sz, aug_tfms=transforms_side_on, max_zoom=1.1)\n",
    "    return ImageClassifierData.from_arrays(\n",
    "        path=PATH,\n",
    "        trn=(X_train, Y_train),\n",
    "        val=(X_test, Y_test),\n",
    "        bs=30,\n",
    "        classes=Y_train,\n",
    "        tfms=tfms)"
   ]
  },
  {
   "cell_type": "code",
   "execution_count": 7,
   "metadata": {},
   "outputs": [],
   "source": [
    "data = get_data(sz)"
   ]
  },
  {
   "cell_type": "code",
   "execution_count": 8,
   "metadata": {},
   "outputs": [],
   "source": [
    "learn = ConvLearner.pretrained(arch, data, precompute=True)"
   ]
  },
  {
   "cell_type": "code",
   "execution_count": 9,
   "metadata": {},
   "outputs": [
    {
     "data": {
      "application/vnd.jupyter.widget-view+json": {
       "model_id": "f1d7bf02919e41a0b3f46bceb694724b",
       "version_major": 2,
       "version_minor": 0
      },
      "text/plain": [
       "HBox(children=(IntProgress(value=0, description='Epoch', max=1, style=ProgressStyle(description_width='initial…"
      ]
     },
     "metadata": {},
     "output_type": "display_data"
    },
    {
     "name": "stdout",
     "output_type": "stream",
     "text": [
      "  5%|▌         | 1/20 [00:00<00:14,  1.31it/s, loss=1.07]\n",
      "                                                         \r"
     ]
    },
    {
     "data": {
      "image/png": "[encoded data removed]",
      "text/plain": [
       "<Figure size 432x288 with 1 Axes>"
      ]
     },
     "metadata": {
      "needs_background": "light"
     },
     "output_type": "display_data"
    }
   ],
   "source": [
    "# finding optimal learning rate\n",
    "lrf = learn.lr_find()\n",
    "learn.sched.plot_lr()"
   ]
  },
  {
   "cell_type": "code",
   "execution_count": 10,
   "metadata": {},
   "outputs": [
    {
     "data": {
      "image/png": "[encoded data removed]",
      "text/plain": [
       "<Figure size 432x288 with 1 Axes>"
      ]
     },
     "metadata": {
      "needs_background": "light"
     },
     "output_type": "display_data"
    }
   ],
   "source": [
    "learn.sched.plot()"
   ]
  },
  {
   "cell_type": "code",
   "execution_count": 11,
   "metadata": {},
   "outputs": [
    {
     "data": {
      "application/vnd.jupyter.widget-view+json": {
       "model_id": "f12a14efa6b0489ca4b25b89cb5a1117",
       "version_major": 2,
       "version_minor": 0
      },
      "text/plain": [
       "HBox(children=(IntProgress(value=0, description='Epoch', max=121, style=ProgressStyle(description_width='initi…"
      ]
     },
     "metadata": {},
     "output_type": "display_data"
    },
    {
     "name": "stdout",
     "output_type": "stream",
     "text": [
      "epoch      trn_loss   val_loss   accuracy                 \n",
      "    0      0.600742   0.51059    0.8       \n",
      "    1      0.628339   0.378149   0.893333                 \n",
      "    2      0.50211    0.261331   0.94                     \n",
      "    3      0.404538   0.193078   0.933333                 \n",
      "    4      0.41436    0.259025   0.92                     \n",
      "    5      0.389685   0.201744   0.9                        \n",
      "    6      0.353408   0.231291   0.933333                 \n",
      "    7      0.31348    0.134138   0.953333                 \n",
      "    8      0.279238   0.177227   0.92                     \n",
      "    9      0.248327   0.11978    0.966667                 \n",
      "    10     0.215498   0.120035   0.96                     \n",
      "    11     0.194384   0.123963   0.966667                 \n",
      "    12     0.175264   0.119691   0.966667                 \n",
      "    13     0.207676   0.13535    0.96                     \n",
      "    14     0.256194   0.349808   0.846667                 \n",
      "    15     0.24524    0.279233   0.906667                 \n",
      "    16     0.258022   0.339209   0.906667                 \n",
      "    17     0.285594   0.132465   0.966667                 \n",
      "    18     0.299753   0.607397   0.873333                \n",
      "    19     0.324062   0.157595   0.933333                 \n",
      "    20     0.367942   0.300846   0.94                     \n",
      "    21     0.344573   0.192059   0.953333                \n",
      "    22     0.296089   0.177619   0.946667                 \n",
      "    23     0.287686   0.144688   0.953333                   \n",
      "    24     0.265064   0.13446    0.966667                 \n",
      "    25     0.224064   0.143392   0.933333                 \n",
      "    26     0.2252     0.142043   0.96                     \n",
      "    27     0.206838   0.124049   0.96                     \n",
      "    28     0.178662   0.108039   0.966667                 \n",
      "    29     0.153946   0.135858   0.973333                 \n",
      "    30     0.146772   0.142713   0.94                     \n",
      "    31     0.132277   0.113583   0.966667                 \n",
      "    32     0.142147   0.112539   0.953333                 \n",
      "    33     0.128267   0.111747   0.953333                 \n",
      "    34     0.137444   0.115881   0.966667                 \n",
      "    35     0.129734   0.10629    0.966667                 \n",
      "    36     0.109309   0.102058   0.966667                 \n",
      "    37     0.097025   0.100459   0.966667                 \n",
      "    38     0.09362    0.104617   0.966667                  \n",
      "    39     0.081504   0.103173   0.966667                  \n",
      "    40     0.118654   0.139336   0.946667                 \n",
      "    41     0.116286   0.146259   0.94                     \n",
      "    42     0.119949   0.144782   0.96                     \n",
      "    43     0.127859   0.150488   0.96                     \n",
      "    44     0.150053   0.113951   0.973333                 \n",
      "    45     0.162807   0.119021   0.966667                 \n",
      "    46     0.151581   0.106105   0.966667                 \n",
      "    47     0.152702   0.130884   0.966667                 \n",
      "    48     0.1526     0.102166   0.973333                 \n",
      "    49     0.147438   0.126056   0.96                    \n",
      "    50     0.138683   0.112741   0.973333                 \n",
      "    51     0.116679   0.132242   0.946667                 \n",
      "    52     0.117821   0.158031   0.953333                \n",
      "    53     0.11899    0.149092   0.946667                 \n",
      "    54     0.129924   0.105254   0.96                     \n",
      "    55     0.14038    0.183997   0.926667                 \n",
      "    56     0.137921   0.092017   0.96                      \n",
      "    57     0.124432   0.101005   0.966667                 \n",
      "    58     0.115304   0.112513   0.966667                 \n",
      "    59     0.109473   0.113973   0.966667                 \n",
      "    60     0.09438    0.135529   0.96                     \n",
      "    61     0.095374   0.130016   0.94                      \n",
      "    62     0.093619   0.099366   0.966667                 \n",
      "    63     0.089786   0.098724   0.973333                  \n",
      "    64     0.087885   0.140388   0.96                      \n",
      "    65     0.091693   0.095396   0.973333                  \n",
      "    66     0.095467   0.128215   0.953333                  \n",
      "    67     0.08382    0.101094   0.973333                    \n",
      "    68     0.079691   0.096137   0.973333                  \n",
      "    69     0.066075   0.099228   0.973333                  \n",
      "    70     0.0756     0.090894   0.973333                  \n",
      "    71     0.08434    0.088699   0.973333                  \n",
      "    72     0.08785    0.111667   0.966667                  \n",
      "    73     0.096944   0.108658   0.966667                  \n",
      "    74     0.088003   0.088863   0.98                      \n",
      "    75     0.070761   0.084842   0.973333                  \n",
      "    76     0.088113   0.107419   0.973333                  \n",
      "    77     0.081242   0.083852   0.98                      \n",
      "    78     0.074769   0.088494   0.98                      \n",
      "    79     0.080027   0.06911    0.973333                  \n",
      "    80     0.072499   0.102766   0.973333                    \n",
      "    81     0.091798   0.100082   0.973333                  \n",
      "    82     0.10278    0.081863   0.973333                  \n",
      "    83     0.099819   0.089502   0.98                   \n",
      "    84     0.095093   0.088984   0.98                      \n",
      "    85     0.090794   0.074055   0.98                      \n",
      "    86     0.094213   0.071692   0.98                      \n",
      "    87     0.086386   0.080013   0.973333                  \n",
      "    88     0.073334   0.066555   0.98                      \n",
      "    89     0.079437   0.184608   0.973333                  \n",
      "    90     0.099951   0.072342   0.973333                  \n",
      "    91     0.096361   0.064167   0.98                     \n",
      "    92     0.083124   0.074168   0.973333                  \n",
      "    93     0.080067   0.075028   0.973333                  \n",
      "    94     0.069864   0.069216   0.973333                  \n",
      "    95     0.069952   0.069604   0.973333                  \n",
      "    96     0.07058    0.072871   0.973333                  \n",
      "    97     0.074311   0.067118   0.973333                  \n",
      "    98     0.05997    0.065297   0.98                      \n",
      "    99     0.062518   0.066791   0.98                      \n",
      "   100     0.068095   0.069432   0.973333                 \n",
      "   101     0.064772   0.067468   0.98                      \n",
      "   102     0.071359   0.079385   0.973333                  \n",
      "   103     0.075125   0.072833   0.973333                  \n",
      "   104     0.073732   0.068086   0.973333                  \n",
      "   105     0.064455   0.067465   0.973333                  \n",
      "   106     0.08201    0.078816   0.98                      \n",
      "   107     0.067405   0.068902   0.973333                  \n",
      "   108     0.056105   0.071219   0.973333        \n",
      "   109     0.057263   0.070736   0.973333                  \n",
      "   110     0.057808   0.067498   0.973333                  \n",
      "   111     0.049449   0.070292   0.98                      \n",
      "   112     0.050298   0.068051   0.98                      \n",
      "   113     0.05557    0.072158   0.973333                  \n",
      "   114     0.063563   0.072756   0.973333                  \n",
      "   115     0.054094   0.067397   0.98                      \n",
      "   116     0.047641   0.070014   0.98                       \n",
      "   117     0.044591   0.068302   0.98                      \n",
      "   118     0.043577   0.070267   0.973333                    \n",
      "   119     0.049635   0.070474   0.973333                  \n",
      "   120     0.046264   0.132375   0.966667                  \n",
      "\n"
     ]
    },
    {
     "data": {
      "text/plain": [
       "[0.13237517848610877, 0.9666666865348816]"
      ]
     },
     "execution_count": 11,
     "metadata": {},
     "output_type": "execute_result"
    }
   ],
   "source": [
    "lr = 0.038\n",
    "learn.fit(lr, 5, cycle_len=1, cycle_mult=3)"
   ]
  },
  {
   "cell_type": "code",
   "execution_count": 12,
   "metadata": {},
   "outputs": [],
   "source": [
    "learn.set_data(get_data(224))"
   ]
  },
  {
   "cell_type": "code",
   "execution_count": 13,
   "metadata": {},
   "outputs": [
    {
     "data": {
      "application/vnd.jupyter.widget-view+json": {
       "model_id": "04fb158eafef42b9b585f0e8d301fe77",
       "version_major": 2,
       "version_minor": 0
      },
      "text/plain": [
       "HBox(children=(IntProgress(value=0, description='Epoch', max=121, style=ProgressStyle(description_width='initi…"
      ]
     },
     "metadata": {},
     "output_type": "display_data"
    },
    {
     "name": "stdout",
     "output_type": "stream",
     "text": [
      "epoch      trn_loss   val_loss   accuracy                  \n",
      "    0      0.119717   0.116435   0.973333  \n",
      "    1      0.112068   0.102661   0.966667                 \n",
      "    2      0.09827    0.084683   0.966667                  \n",
      "    3      0.079253   0.074754   0.973333                  \n",
      "    4      0.08878    0.07604    0.98                      \n",
      "    5      0.084241   0.073992   0.973333                 \n",
      "    6      0.077878   0.135541   0.966667                  \n",
      "    7      0.08287    0.078119   0.973333                  \n",
      "    8      0.083466   0.0663     0.973333                  \n",
      "    9      0.06501    0.063143   0.973333                  \n",
      "    10     0.058224   0.076933   0.973333                  \n",
      "    11     0.069879   0.073494   0.973333                  \n",
      "    12     0.066728   0.074105   0.973333                 \n",
      "    13     0.072007   0.069042   0.973333                  \n",
      "    14     0.063729   0.080178   0.973333                \n",
      "    15     0.077937   0.079291   0.98                      \n",
      "    16     0.068177   0.076044   0.98                      \n",
      "    17     0.073206   0.074471   0.98                      \n",
      "    18     0.059835   0.068185   0.98                      \n",
      "    19     0.074163   0.066942   0.973333                  \n",
      "    20     0.081743   0.072315   0.973333                  \n",
      "    21     0.096462   0.090507   0.96                      \n",
      "    22     0.079943   0.070015   0.973333                  \n",
      "    23     0.07148    0.178935   0.966667                  \n",
      "    24     0.064609   0.080454   0.966667                  \n",
      "    25     0.058807   0.174914   0.966667                  \n",
      "    26     0.055813   0.079429   0.973333                    \n",
      "    27     0.059948   0.075779   0.973333                  \n",
      "    28     0.054877   0.082209   0.973333                  \n",
      "    29     0.055255   0.089069   0.973333                  \n",
      "    30     0.048532   0.076147   0.973333                  \n",
      "    31     0.044351   0.080406   0.973333                  \n",
      "    32     0.048145   0.107353   0.96                      \n",
      "    33     0.054515   0.090961   0.966667                  \n",
      "    34     0.060815   0.083874   0.973333                  \n",
      "    35     0.063979   0.081216   0.973333                  \n",
      "    36     0.05136    0.077552   0.973333                  \n",
      "    37     0.05201    0.081281   0.973333                  \n",
      "    38     0.045751   0.079948   0.973333                  \n",
      "    39     0.04768    0.080116   0.973333                  \n",
      "    40     0.042239   0.075476   0.973333                 \n",
      "    41     0.03871    0.06757    0.973333                 \n",
      "    42     0.04344    0.101998   0.966667                  \n",
      "    43     0.103835   0.137164   0.966667                  \n",
      "    44     0.103687   0.07583    0.98                     \n",
      "    45     0.092423   0.099185   0.966667                  \n",
      "    46     0.081672   0.068929   0.973333                  \n",
      "    47     0.089026   0.088417   0.98                      \n",
      "    48     0.072366   0.072729   0.98                      \n",
      "    49     0.071682   0.092316   0.973333                  \n",
      "    50     0.066139   0.077454   0.98                      \n",
      "    51     0.05573    0.078119   0.98                      \n",
      "    52     0.076307   0.091857   0.96                      \n",
      "    53     0.068094   0.202576   0.96                      \n",
      "    54     0.092508   0.062983   0.98                      \n",
      "    55     0.085236   0.071046   0.986667                  \n",
      "    56     0.075414   0.192408   0.96                      \n",
      "    57     0.098621   0.087015   0.973333                  \n",
      "    58     0.080548   0.069323   0.966667                  \n",
      "    59     0.076158   0.106356   0.973333                    \n",
      "    60     0.077491   0.068746   0.973333                  \n",
      "    61     0.091256   0.10075    0.973333                  \n",
      "    62     0.083847   0.093728   0.973333                  \n",
      "    63     0.084123   0.072638   0.98                      \n",
      "    64     0.076005   0.070087   0.98                      \n",
      "    65     0.070216   0.173521   0.96                      \n",
      "    66     0.061489   0.071674   0.966667                  \n",
      "    67     0.059841   0.060659   0.973333                  \n",
      "    68     0.050514   0.060719   0.98                     \n",
      "    69     0.060834   0.071529   0.973333                 \n",
      "    70     0.050548   0.062842   0.973333                  \n",
      "    71     0.052303   0.06552    0.98                      \n",
      "    72     0.048422   0.073504   0.98                      \n",
      "    73     0.056725   0.068445   0.973333                  \n",
      "    74     0.048029   0.094954   0.973333                 \n",
      "    75     0.047478   0.077328   0.98                      \n",
      "    76     0.052059   0.091602   0.973333                  \n",
      "    77     0.055392   0.059057   0.973333                  \n",
      "    78     0.070878   0.081505   0.973333                  \n",
      "    79     0.071723   0.098552   0.973333                  \n",
      "    80     0.058483   0.069725   0.98                      \n",
      "    81     0.05338    0.067733   0.98                      \n",
      "    82     0.067388   0.068738   0.973333                  \n",
      "    83     0.056782   0.068744   0.98                      \n",
      "    84     0.049561   0.071497   0.98                      \n",
      "    85     0.049443   0.081114   0.973333                  \n",
      "    86     0.043749   0.065862   0.98                        \n",
      "    87     0.053255   0.061142   0.98                      \n",
      "    88     0.057496   0.06466    0.98                      \n",
      "    89     0.054002   0.073815   0.98                        \n",
      "    90     0.075948   0.066262   0.98                      \n",
      "    91     0.065409   0.061496   0.98                      \n",
      "    92     0.056036   0.066964   0.98                      \n",
      "    93     0.059089   0.079842   0.98                      \n",
      "    94     0.045769   0.07551    0.98                      \n",
      "    95     0.040842   0.061854   0.98                        \n",
      "    96     0.046401   0.064637   0.98                      \n",
      "    97     0.068453   0.067516   0.98                     \n",
      "    98     0.056283   0.067932   0.98                      \n",
      "    99     0.047608   0.067909   0.98                      \n",
      "   100     0.048727   0.070499   0.98                      \n",
      "   101     0.049271   0.0728     0.98                      \n",
      "   102     0.041121   0.071167   0.98                      \n",
      "   103     0.034277   0.073716   0.98                      \n",
      "   104     0.03656    0.073367   0.98                     \n",
      "   105     0.033626   0.075498   0.98                      \n",
      "   106     0.045774   0.074986   0.98                      \n",
      "   107     0.05367    0.07262    0.98                        \n",
      "   108     0.04478    0.069876   0.98                      \n",
      "   109     0.044719   0.070871   0.98                      \n",
      "   110     0.048021   0.071301   0.98                      \n",
      "   111     0.04694    0.071657   0.98                      \n",
      "   112     0.042818   0.071477   0.98                     \n",
      "   113     0.046756   0.07162    0.98                      \n",
      "   114     0.041692   0.070291   0.98                      \n",
      "   115     0.040318   0.133118   0.973333                  \n",
      "   116     0.045947   0.068519   0.98                      \n",
      "   117     0.047395   0.06819    0.98                      \n",
      "   118     0.047163   0.072441   0.98                      \n",
      "   119     0.046368   0.069806   0.98                        \n",
      "   120     0.044843   0.109116   0.973333                  \n",
      "\n"
     ]
    },
    {
     "data": {
      "text/plain": [
       "[0.10911554875783622, 0.9733333587646484]"
      ]
     },
     "execution_count": 13,
     "metadata": {},
     "output_type": "execute_result"
    }
   ],
   "source": [
    "learn.fit(lr, 5, cycle_len=1, cycle_mult=3)"
   ]
  },
  {
   "cell_type": "code",
   "execution_count": 14,
   "metadata": {},
   "outputs": [
    {
     "name": "stdout",
     "output_type": "stream",
     "text": [
      "                                     \r"
     ]
    },
    {
     "data": {
      "text/plain": [
       "0.98"
      ]
     },
     "execution_count": 14,
     "metadata": {},
     "output_type": "execute_result"
    }
   ],
   "source": [
    "log_preds,y = learn.TTA()\n",
    "probs = np.mean(np.exp(log_preds),0)\n",
    "accuracy_np(probs, y)"
   ]
  }
 ],
 "metadata": {
  "kernelspec": {
   "display_name": "Python 3",
   "language": "python",
   "name": "python3"
  },
  "language_info": {
   "codemirror_mode": {
    "name": "ipython",
    "version": 3
   },
   "file_extension": ".py",
   "mimetype": "text/x-python",
   "name": "python",
   "nbconvert_exporter": "python",
   "pygments_lexer": "ipython3",
   "version": "3.6.7"
  }
 },
 "nbformat": 4,
 "nbformat_minor": 2
}
